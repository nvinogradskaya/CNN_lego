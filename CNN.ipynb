{
 "cells": [
  {
   "cell_type": "code",
   "execution_count": 1,
   "id": "ac0354b8",
   "metadata": {},
   "outputs": [],
   "source": [
    "import torch\n",
    "from torch import nn\n",
    "import torch.optim as optim\n",
    "\n",
    "import pickle\n",
    "\n",
    "import numpy as np\n",
    "import matplotlib.pyplot as plt"
   ]
  },
  {
   "cell_type": "code",
   "execution_count": 2,
   "id": "31cc2217",
   "metadata": {},
   "outputs": [
    {
     "name": "stdout",
     "output_type": "stream",
     "text": [
      "Using device: cpu\n"
     ]
    }
   ],
   "source": [
    "device = torch.device('cuda' if torch.cuda.is_available() else 'cpu')\n",
    "print('Using device:', device)"
   ]
  },
  {
   "cell_type": "code",
   "execution_count": 21,
   "id": "bcfbb316",
   "metadata": {},
   "outputs": [],
   "source": [
    "# Open the files:\n",
    "train_fh = open('lego-train.pickle', 'rb')\n",
    "test_fh = open('lego-test.pickle', 'rb')\n",
    "\n",
    "\n",
    "train_data = pickle.load(train_fh)\n",
    "test_data = pickle.load(test_fh)\n",
    "\n",
    "# train_data -> [] of tuples: (ndarray, uint8 label) \n",
    "\n",
    "train_data_X = [img for (img, _) in train_data]\n",
    "train_data_y = [lbl for (_, lbl) in train_data]\n",
    "\n",
    "test_data_X = [img for (img, _) in test_data]\n",
    "test_data_y = [lbl for (_, lbl) in test_data]\n",
    "\n",
    "img_transforms = transforms.Compose([\n",
    "    transforms.ToTensor(),\n",
    "    transforms.Normalize(0.13, 0.31)\n",
    "])\n",
    "\n",
    "def get_dataset(X, y):\n",
    "    tensor_x = torch.stack([img_transforms(img) for img in X])\n",
    "    tensor_y = torch.Tensor(y).long()\n",
    "\n",
    "    dataset = TensorDataset(tensor_x, tensor_y)  \n",
    "    return dataset\n",
    "\n",
    "train_dataset = get_dataset(train_data_X, train_data_y)\n",
    "test_dataset = get_dataset(test_data_X, test_data_y)"
   ]
  },
  {
   "cell_type": "code",
   "execution_count": 4,
   "id": "33ad85f6",
   "metadata": {},
   "outputs": [],
   "source": [
    "import torchvision\n",
    "import torchvision.transforms as transforms\n",
    "from torch.utils.data import TensorDataset, DataLoader"
   ]
  },
  {
   "cell_type": "code",
   "execution_count": 5,
   "id": "2eac8063",
   "metadata": {},
   "outputs": [],
   "source": [
    "#Разделение данных на изображения и соответствующие им метки"
   ]
  },
  {
   "cell_type": "code",
   "execution_count": 10,
   "id": "16781c89",
   "metadata": {},
   "outputs": [],
   "source": [
    "# For humans:\n",
    "class_names = ['2x3 Brick', '2x2 Brick', '1x3 Brick', '2x1 Brick', '1x1 Brick', '2x2 Macaroni', '2x2 Curved End', 'Cog 16 Tooth', '1x2 Handles', '1x2 Grill']\n"
   ]
  },
  {
   "cell_type": "code",
   "execution_count": 11,
   "id": "4cb38cfa",
   "metadata": {},
   "outputs": [
    {
     "name": "stdout",
     "output_type": "stream",
     "text": [
      "Original shape is  torch.Size([48, 48, 1])\n"
     ]
    },
    {
     "data": {
      "image/png": "[encoded data removed]",
      "text/plain": [
       "<Figure size 640x480 with 2 Axes>"
      ]
     },
     "metadata": {},
     "output_type": "display_data"
    }
   ],
   "source": [
    "# the same, but with torch dataset\n",
    "train_dataloader = DataLoader(train_dataset)\n",
    "images_data, label_data = next(iter(train_dataloader)) \n",
    "\n",
    "print('Original shape is ', images_data[0].shape)\n",
    "plt.figure()\n",
    "plt.imshow(images_data[0].numpy())\n",
    "plt.colorbar()\n",
    "plt.xlabel(class_names[label_data])\n",
    "plt.show()"
   ]
  },
  {
   "cell_type": "code",
   "execution_count": 33,
   "id": "44136a16",
   "metadata": {},
   "outputs": [],
   "source": [
    "import torch.nn.functional as F\n",
    "import torch\n",
    "from torch import nn, optim\n",
    "import torchvision.transforms as transforms\n",
    "from torch.utils.data import TensorDataset, DataLoader\n",
    "from tqdm import tqdm\n",
    "import matplotlib.pyplot as plt\n",
    "import pickle\n",
    "import numpy as np"
   ]
  },
  {
   "cell_type": "code",
   "execution_count": 49,
   "id": "6f69b8db",
   "metadata": {},
   "outputs": [],
   "source": [
    "class CNN(nn.Module):\n",
    "    def __init__(self):\n",
    "        super(CNN, self).__init__()\n",
    "        \n",
    "        self.conv1 = nn.Conv2d(1, 32, kernel_size=3, stride=1, padding=1)\n",
    "        self.conv2 = nn.Conv2d(32, 64, kernel_size=3, stride=1, padding=1)\n",
    "        self.pool = nn.MaxPool2d(kernel_size=2, stride=2, padding=0)\n",
    "        \n",
    "        self.fc1 = nn.Linear(64 * 12 * 12, 32)\n",
    "        self.fc2 = nn.Linear(32, 10)\n",
    "        \n",
    "    def forward(self, x):\n",
    "        x = F.relu(self.conv1(x))\n",
    "        x = self.pool(x)\n",
    "        x = F.relu(self.conv2(x))\n",
    "        x = self.pool(x)\n",
    "\n",
    "        x = x.reshape(x.size(0), -1)\n",
    "\n",
    "        x = F.relu(self.fc1(x))\n",
    "        x = self.fc2(x)\n",
    "\n",
    "        return x"
   ]
  },
  {
   "cell_type": "code",
   "execution_count": 50,
   "id": "027a76d4",
   "metadata": {},
   "outputs": [],
   "source": [
    "def init_weights(m):\n",
    "    if type(m) == nn.Linear or type(m) == nn.Conv2d:\n",
    "        nn.init.xavier_uniform_(m.weight)\n",
    "        m.bias.data.fill_(0.01)"
   ]
  },
  {
   "cell_type": "code",
   "execution_count": 51,
   "id": "877b7918",
   "metadata": {},
   "outputs": [],
   "source": [
    "def get_dataset(X, y, batch_size):\n",
    "    tensor_x = torch.Tensor(X)\n",
    "    tensor_y = torch.Tensor(y).long()\n",
    "    dataset = TensorDataset(tensor_x, tensor_y)\n",
    "    return DataLoader(dataset, batch_size=batch_size, shuffle=True)\n",
    "\n",
    "\n",
    "train_fh = open('lego-train.pickle', 'rb')\n",
    "test_fh = open('lego-test.pickle', 'rb')\n",
    "\n",
    "train_data = pickle.load(train_fh)\n",
    "test_data = pickle.load(test_fh)\n",
    "\n",
    "train_data_X = [img for (img, _) in train_data]\n",
    "train_data_y = [lbl for (_, lbl) in train_data]\n",
    "\n",
    "test_data_X = [img for (img, _) in test_data]\n",
    "test_data_y = [lbl for (_, lbl) in test_data]\n",
    "\n",
    "# Рассчитываем среднее и стандартное отклонение для нормализации\n",
    "mean = np.mean(train_data_X)\n",
    "std = np.std(train_data_X)\n",
    "\n",
    "# Трансформации для изображений\n",
    "img_transforms = transforms.Compose([\n",
    "    transforms.ToTensor(),\n",
    "    transforms.Normalize(mean, std)\n",
    "])\n",
    "\n",
    "# Применение трансформаций к датасетам\n",
    "train_dataset = get_dataset(train_data_X, train_data_y, batch_size=32)\n",
    "test_dataset = get_dataset(test_data_X, test_data_y, batch_size=32)"
   ]
  },
  {
   "cell_type": "code",
   "execution_count": 52,
   "id": "dfd10ab6",
   "metadata": {},
   "outputs": [],
   "source": [
    "net_cnn = CNN()\n",
    "net_cnn.apply(init_weights)\n",
    "\n",
    "device = torch.device('cuda' if torch.cuda.is_available() else 'cpu')\n",
    "net_cnn.to(device)\n",
    "\n",
    "num_epochs = 100\n",
    "learning_rate = 0.001"
   ]
  },
  {
   "cell_type": "code",
   "execution_count": 53,
   "id": "e1cb702e",
   "metadata": {},
   "outputs": [],
   "source": [
    "def train(net, train_loader, device, num_epochs, learning_rate):\n",
    "    optimizer = optim.SGD(net.parameters(), lr=learning_rate, momentum=0.9)\n",
    "    loss_function = torch.nn.CrossEntropyLoss()\n",
    "    acc_history = []\n",
    "\n",
    "    with tqdm(total=len(train_loader)*num_epochs, position=0, leave=True) as pbar:\n",
    "        for epoch in range(num_epochs):\n",
    "            running_loss = 0.0\n",
    "            correct = 0\n",
    "            total = 0 \n",
    "            \n",
    "            for batch_num, (inputs, labels) in enumerate(train_loader):\n",
    "                inputs = inputs.permute(0, 3, 1, 2).to(device)\n",
    "                labels = labels.to(device)\n",
    "                \n",
    "                optimizer.zero_grad()\n",
    "                outputs = net(inputs)\n",
    "                loss = loss_function(outputs, labels)\n",
    "                loss.backward()\n",
    "                optimizer.step()\n",
    "\n",
    "                running_loss += loss.item()\n",
    "\n",
    "                _, predicted = outputs.max(1)\n",
    "                batch_total = labels.size(0)\n",
    "                batch_correct = predicted.eq(labels).sum().item()\n",
    "                batch_acc = batch_correct / batch_total\n",
    "\n",
    "                pbar.set_description(\"Epoch: %d, Batch: %2d, Loss: %.2f, Acc: %.2f\" % (epoch, batch_num, running_loss, batch_acc))\n",
    "                pbar.update()\n",
    "\n",
    "                total += batch_total\n",
    "                correct += batch_correct\n",
    "\n",
    "            acc = correct / total \n",
    "            acc_history.append(acc)\n",
    "\n",
    "    pbar.close()\n",
    "    return acc_history"
   ]
  },
  {
   "cell_type": "code",
   "execution_count": 54,
   "id": "42af11fc",
   "metadata": {},
   "outputs": [
    {
     "name": "stderr",
     "output_type": "stream",
     "text": [
      "Epoch: 99, Batch: 14, Loss: 4.79, Acc: 1.00: 100%|█| 1500/1500 [02:05<00:00, 11.\n"
     ]
    },
    {
     "data": {
      "image/png": "[encoded data removed]",
      "text/plain": [
       "<Figure size 700x400 with 1 Axes>"
      ]
     },
     "metadata": {},
     "output_type": "display_data"
    }
   ],
   "source": [
    "hist_cnn = train(net_cnn, train_dataset, device, num_epochs, learning_rate)\n",
    "\n",
    "plt.figure(figsize=(7, 4))\n",
    "plt.plot(hist_cnn)\n",
    "plt.title(\"CNN Model Accuracy\")\n",
    "plt.ylabel('Accuracy')\n",
    "plt.xlabel('Epoch')\n",
    "plt.show()"
   ]
  },
  {
   "cell_type": "code",
   "execution_count": null,
   "id": "36e315c8",
   "metadata": {},
   "outputs": [],
   "source": []
  }
 ],
 "metadata": {
  "kernelspec": {
   "display_name": "Python 3 (ipykernel)",
   "language": "python",
   "name": "python3"
  },
  "language_info": {
   "codemirror_mode": {
    "name": "ipython",
    "version": 3
   },
   "file_extension": ".py",
   "mimetype": "text/x-python",
   "name": "python",
   "nbconvert_exporter": "python",
   "pygments_lexer": "ipython3",
   "version": "3.11.5"
  }
 },
 "nbformat": 4,
 "nbformat_minor": 5
}
